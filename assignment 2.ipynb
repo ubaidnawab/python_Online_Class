{
 "cells": [
  {
   "cell_type": "code",
   "execution_count": 18,
   "metadata": {},
   "outputs": [
    {
     "name": "stdout",
     "output_type": "stream",
     "text": [
      "1\n",
      "1\n",
      "2\n",
      "3\n"
     ]
    }
   ],
   "source": [
    "arr=[1,1,2,3,5,8,13,21,34,55,89]\n",
    "\n",
    "for i in arr:\n",
    "    if i < 5:\n",
    "        print(i);\n",
    "        "
   ]
  },
  {
   "cell_type": "code",
   "execution_count": 24,
   "metadata": {},
   "outputs": [
    {
     "name": "stdout",
     "output_type": "stream",
     "text": [
      "345\n"
     ]
    }
   ],
   "source": [
    "'''\n",
    "#i tried with loop but not working :(\n",
    "arr = [1,23,43,11,12,10,23,55,33,22,345]\n",
    "#length = len(arr)\n",
    "largest=0;\n",
    "for i in arr:\n",
    "    if i > largest:\n",
    "        largest=arr[i]\n",
    "        print(largest)'''\n",
    "arr = [1,23,43,11,12,10,23,55,33,22,345]\n",
    "print(max(arr))"
   ]
  },
  {
   "cell_type": "code",
   "execution_count": 4,
   "metadata": {},
   "outputs": [
    {
     "name": "stdout",
     "output_type": "stream",
     "text": [
      "40\n"
     ]
    }
   ],
   "source": [
    "list=[2,4,8,14,2,10]\n",
    "print(sum(list))\n"
   ]
  },
  {
   "cell_type": "code",
   "execution_count": 2,
   "metadata": {},
   "outputs": [
    {
     "name": "stdout",
     "output_type": "stream",
     "text": [
      "6\n"
     ]
    }
   ],
   "source": [
    "list1=[2,4,8,14,2,10]\n",
    "print(len(list1))"
   ]
  },
  {
   "cell_type": "code",
   "execution_count": 11,
   "metadata": {},
   "outputs": [
    {
     "name": "stdout",
     "output_type": "stream",
     "text": [
      "enter urdu marks : 54\n",
      "enter urdu marks : 65\n",
      "enter urdu marks : 45\n",
      "enter urdu marks : 34\n",
      "enter urdu marks : 56\n",
      "Total marks =  254\n",
      "Grade is C\n"
     ]
    }
   ],
   "source": [
    "urdu = int(input(\"enter urdu marks : \"))\n",
    "eng = int(input(\"enter urdu marks : \"))\n",
    "com = int(input(\"enter urdu marks : \"))\n",
    "math = int(input(\"enter urdu marks : \"))\n",
    "islm = int(input(\"enter urdu marks : \"))\n",
    "sum = urdu+eng+com+math+islm;\n",
    "print(\"Total marks = \",sum)\n",
    "per = sum * 100 / 500;\n",
    "\n",
    "if per >= 80:\n",
    "   print(\"Grade is A1\")\n",
    "elif per >= 70:\n",
    "   print(\"Grade is A\")\n",
    "elif per >= 60:\n",
    "   print(\"Grade is B\")\n",
    "elif per >= 50:\n",
    "   print(\"Grade is C\")\n",
    "elif per >= 40:\n",
    "   print(\"Grade is D\")\n",
    "else:\n",
    "    print(\"Fail\")"
   ]
  },
  {
   "cell_type": "code",
   "execution_count": 23,
   "metadata": {},
   "outputs": [
    {
     "name": "stdout",
     "output_type": "stream",
     "text": [
      "Enter Number8\n",
      "Entered Number is Even\n"
     ]
    }
   ],
   "source": [
    "num = int(input(\"Enter Number\"))\n",
    "\n",
    "if num % 2 == 0:\n",
    "    print(\"Entered Number is Even\")\n",
    "else:\n",
    "    print(\"Entered Number is Odd\")"
   ]
  },
  {
   "cell_type": "code",
   "execution_count": null,
   "metadata": {},
   "outputs": [],
   "source": []
  },
  {
   "cell_type": "code",
   "execution_count": null,
   "metadata": {},
   "outputs": [],
   "source": []
  }
 ],
 "metadata": {
  "kernelspec": {
   "display_name": "Python 3",
   "language": "python",
   "name": "python3"
  },
  "language_info": {
   "codemirror_mode": {
    "name": "ipython",
    "version": 3
   },
   "file_extension": ".py",
   "mimetype": "text/x-python",
   "name": "python",
   "nbconvert_exporter": "python",
   "pygments_lexer": "ipython3",
   "version": "3.7.4"
  }
 },
 "nbformat": 4,
 "nbformat_minor": 4
}
