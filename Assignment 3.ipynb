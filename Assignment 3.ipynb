{
 "cells": [
  {
   "cell_type": "code",
   "execution_count": 3,
   "metadata": {},
   "outputs": [
    {
     "name": "stdout",
     "output_type": "stream",
     "text": [
      "Enter value 1 = 77\n",
      "Enter operator+\n",
      "Enter value 2 = 55\n",
      "132\n"
     ]
    }
   ],
   "source": [
    "#Question Number 1\n",
    "n1 = int(input(\"Enter value 1 = \"))\n",
    "opt = input(\"Enter operator\")\n",
    "n2 = int(input(\"Enter value 2 = \"))\n",
    "if opt == '+':\n",
    "    result = n1 + n2\n",
    "    print(result)\n",
    "elif opt == '-':\n",
    "    result = n1 - n2\n",
    "    print(result)\n",
    "elif opt == '*':\n",
    "    result = n1 * n2\n",
    "    print(result)\n",
    "elif opt == '/':\n",
    "    result = n1 / n2\n",
    "    print(result)\n",
    "elif opt == '**':\n",
    "    result = n1 ** n2\n",
    "    print(result)\n",
    "else:\n",
    "    print(\"Enter Correct operator\")"
   ]
  },
  {
   "cell_type": "code",
   "execution_count": 4,
   "metadata": {},
   "outputs": [
    {
     "name": "stdout",
     "output_type": "stream",
     "text": [
      "This is numeric value in list 1\n",
      "This is numeric value in list 2\n",
      "This is numeric value in list 4\n",
      "This is numeric value in list 5\n",
      "This is numeric value in list 8\n",
      "This is numeric value in list 67\n"
     ]
    }
   ],
   "source": [
    "#Question number 2\n",
    "checkList = [1,2,\"ubaid\",4,5,\"nawab\",8,67,\"Ali\"]\n",
    "for a in checkList:\n",
    "     if isinstance(a, int):\n",
    "         print(\"This is numeric value in list\",a)"
   ]
  },
  {
   "cell_type": "code",
   "execution_count": 5,
   "metadata": {},
   "outputs": [
    {
     "name": "stdout",
     "output_type": "stream",
     "text": [
      "{'userName': ''}\n"
     ]
    }
   ],
   "source": [
    "#question number 3\n",
    "myDictionary = {}\n",
    "myDictionary['userName']=''\n",
    "print(myDictionary)"
   ]
  },
  {
   "cell_type": "code",
   "execution_count": 7,
   "metadata": {},
   "outputs": [
    {
     "name": "stdout",
     "output_type": "stream",
     "text": [
      "11\n"
     ]
    }
   ],
   "source": [
    "#question number 4\n",
    "val={'a':2,'b':4,'c':5}\n",
    "print(sum(val.values()))"
   ]
  },
  {
   "cell_type": "code",
   "execution_count": 8,
   "metadata": {},
   "outputs": [
    {
     "name": "stdout",
     "output_type": "stream",
     "text": [
      "this is duplicate value in list  1\n",
      "this is duplicate value in list  2\n",
      "this is duplicate value in list  5\n"
     ]
    }
   ],
   "source": [
    "#Question number 5\n",
    "a = [1,2,3,2,1,5,6,5,5,5]\n",
    "\n",
    "import collections\n",
    "\n",
    "for item, count in collections.Counter(a).items(): \n",
    "    if count > 1:\n",
    "        print(\"this is duplicate value in list \",item)\n"
   ]
  },
  {
   "cell_type": "code",
   "execution_count": 9,
   "metadata": {},
   "outputs": [
    {
     "name": "stdout",
     "output_type": "stream",
     "text": [
      "Enter key: name\n",
      "key already Exist\n"
     ]
    }
   ],
   "source": [
    "#question 6\n",
    "dicKey={'name':'ubaid','password':123}\n",
    "inp = input(\"Enter key: \")\n",
    "for xz in dicKey.keys():\n",
    "   if inp == xz:\n",
    "     print(\"key already Exist\")\n",
    "\n",
    "   "
   ]
  },
  {
   "cell_type": "code",
   "execution_count": null,
   "metadata": {},
   "outputs": [],
   "source": []
  }
 ],
 "metadata": {
  "kernelspec": {
   "display_name": "Python 3",
   "language": "python",
   "name": "python3"
  },
  "language_info": {
   "codemirror_mode": {
    "name": "ipython",
    "version": 3
   },
   "file_extension": ".py",
   "mimetype": "text/x-python",
   "name": "python",
   "nbconvert_exporter": "python",
   "pygments_lexer": "ipython3",
   "version": "3.7.4"
  }
 },
 "nbformat": 4,
 "nbformat_minor": 2
}
