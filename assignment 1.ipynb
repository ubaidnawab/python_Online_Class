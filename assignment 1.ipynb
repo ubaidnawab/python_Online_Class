#!/usr/bin/env python
# coding: utf-8

# In[1]:


#Question number 1
print("Twinkle, twinkle, little star,\n \t How I wonder what you are!\n\t\t Up above the world so high, \n\t\t Like a diamond in the sky.\nTwinkle, twinkle, little star, \n \t How I wonder what you are")


# In[2]:


#Question number 2
import sys
print(sys.version)


# In[3]:


#Question number 3
from datetime import datetime
dateandtime= datetime.now()
print(dateandtime)


# In[4]:


#Question number 4
circleRadiusInput = int(input("Entered circle radius "))
area_of_circle=3.14*circleRadiusInput**2;
print(area_of_circle)


# In[5]:


#Question number 5

userFirstName = input("Enter user First Name")
userLastName = input("Enter user Last Name")
fullName = userLastName +" "+userFirstName;
print(fullName);


# In[12]:


#Question number 6
num1 = int (input("Enter number 1="))
num2 = int (input("Enter number 2="))
sum=num1+num2;
print("num1 and num2 sum is ",sum);


# In[ ]:




