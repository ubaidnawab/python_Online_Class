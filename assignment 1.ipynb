{
 "cells": [
  {
   "cell_type": "code",
   "execution_count": 1,
   "metadata": {},
   "outputs": [
    {
     "name": "stdout",
     "output_type": "stream",
     "text": [
      "Twinkle, twinkle, little star,\n",
      " \t How I wonder what you are!\n",
      "\t\t Up above the world so high, \n",
      "\t\t Like a diamond in the sky.\n",
      "Twinkle, twinkle, little star, \n",
      " \t How I wonder what you are\n"
     ]
    }
   ],
   "source": [
    "#Question number 1\n",
    "print(\"Twinkle, twinkle, little star,\\n \\t How I wonder what you are!\\n\\t\\t Up above the world so high, \\n\\t\\t Like a diamond in the sky.\\nTwinkle, twinkle, little star, \\n \\t How I wonder what you are\")"
   ]
  },
  {
   "cell_type": "code",
   "execution_count": 2,
   "metadata": {},
   "outputs": [
    {
     "name": "stdout",
     "output_type": "stream",
     "text": [
      "3.7.4 (default, Aug  9 2019, 18:34:13) [MSC v.1915 64 bit (AMD64)]\n"
     ]
    }
   ],
   "source": [
    "#Question number 2\n",
    "import sys\n",
    "print(sys.version)"
   ]
  },
  {
   "cell_type": "code",
   "execution_count": 3,
   "metadata": {},
   "outputs": [
    {
     "name": "stdout",
     "output_type": "stream",
     "text": [
      "2019-11-05 00:25:26.695198\n"
     ]
    }
   ],
   "source": [
    "#Question number 3\n",
    "from datetime import datetime\n",
    "dateandtime= datetime.now()\n",
    "print(dateandtime)"
   ]
  },
  {
   "cell_type": "code",
   "execution_count": 4,
   "metadata": {},
   "outputs": [
    {
     "name": "stdout",
     "output_type": "stream",
     "text": [
      "Entered circle radius 4\n",
      "50.24\n"
     ]
    }
   ],
   "source": [
    "#Question number 4\n",
    "circleRadiusInput = int(input(\"Entered circle radius \"))\n",
    "area_of_circle=3.14*circleRadiusInput**2;\n",
    "print(area_of_circle)"
   ]
  },
  {
   "cell_type": "code",
   "execution_count": 5,
   "metadata": {},
   "outputs": [
    {
     "name": "stdout",
     "output_type": "stream",
     "text": [
      "Enter user First Nameubaid\n",
      "Enter user Last Namenawab\n",
      "nawab ubaid\n"
     ]
    }
   ],
   "source": [
    "#Question number 5\n",
    "\n",
    "userFirstName = input(\"Enter user First Name\")\n",
    "userLastName = input(\"Enter user Last Name\")\n",
    "fullName = userLastName +\" \"+userFirstName;\n",
    "print(fullName);"
   ]
  },
  {
   "cell_type": "code",
   "execution_count": 12,
   "metadata": {},
   "outputs": [
    {
     "name": "stdout",
     "output_type": "stream",
     "text": [
      "Enter number 1=5\n",
      "Enter number 2=6\n",
      "num1 and num2 sum is  11\n"
     ]
    }
   ],
   "source": [
    "#Question number 6\n",
    "num1 = int (input(\"Enter number 1=\"))\n",
    "num2 = int (input(\"Enter number 2=\"))\n",
    "sum=num1+num2;\n",
    "print(\"num1 and num2 sum is \",sum);"
   ]
  },
  {
   "cell_type": "code",
   "execution_count": null,
   "metadata": {},
   "outputs": [],
   "source": []
  }
 ],
 "metadata": {
  "kernelspec": {
   "display_name": "Python 3",
   "language": "python",
   "name": "python3"
  },
  "language_info": {
   "codemirror_mode": {
    "name": "ipython",
    "version": 3
   },
   "file_extension": ".py",
   "mimetype": "text/x-python",
   "name": "python",
   "nbconvert_exporter": "python",
   "pygments_lexer": "ipython3",
   "version": "3.7.4"
  }
 },
 "nbformat": 4,
 "nbformat_minor": 2
}
